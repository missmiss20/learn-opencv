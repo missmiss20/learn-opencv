{
 "cells": [
  {
   "attachments": {},
   "cell_type": "markdown",
   "metadata": {},
   "source": [
    "# Lesson 2: Draw on image"
   ]
  },
  {
   "cell_type": "code",
   "execution_count": null,
   "metadata": {},
   "outputs": [],
   "source": [
    "import cv2 as cv\n",
    "import matplotlib.pyplot as plt\n",
    "import numpy as np"
   ]
  },
  {
   "attachments": {},
   "cell_type": "markdown",
   "metadata": {},
   "source": [
    "#### 0. setup background"
   ]
  },
  {
   "cell_type": "code",
   "execution_count": null,
   "metadata": {},
   "outputs": [],
   "source": [
    "mat = np.zeros((500,500,3), dtype='uint8')\n",
    "mat = cv.cvtColor(mat, cv.COLOR_BGR2RGB)\n",
    "plt.imshow(mat)"
   ]
  },
  {
   "attachments": {},
   "cell_type": "markdown",
   "metadata": {},
   "source": [
    "#### 1. Paint the image a certain colour, in this case Green"
   ]
  },
  {
   "cell_type": "code",
   "execution_count": null,
   "metadata": {},
   "outputs": [],
   "source": [
    "mat[200:300, 300:400] = 0,255,0\n",
    "plt.imshow(mat)"
   ]
  },
  {
   "attachments": {},
   "cell_type": "markdown",
   "metadata": {},
   "source": [
    "#### 2. Draw a Rectangle\n",
    "cv.rectangle(Mat, (x,y), (length, width), (color), thickness)"
   ]
  },
  {
   "cell_type": "code",
   "execution_count": null,
   "metadata": {},
   "outputs": [],
   "source": [
    "\n",
    "# thickness=cv.FILLED is the same as thickness=-1\n",
    "\n",
    "cv.rectangle(mat, (0,0), (mat.shape[1]//2, mat.shape[0]//2), (255,0,0), thickness=cv.FILLED)\n",
    "plt.title('Rectangle')\n",
    "plt.imshow(mat)"
   ]
  },
  {
   "attachments": {},
   "cell_type": "markdown",
   "metadata": {},
   "source": [
    "#### 3. Draw A circle\n",
    "cv.circle(mat, (x,y), radius, color, thickness)"
   ]
  },
  {
   "cell_type": "code",
   "execution_count": null,
   "metadata": {},
   "outputs": [],
   "source": [
    "cv.circle(mat, (mat.shape[1]//2, mat.shape[0]//2), 40, (0,0,255), thickness=2)\n",
    "plt.title('Circle')\n",
    "plt.imshow(mat)"
   ]
  },
  {
   "attachments": {},
   "cell_type": "markdown",
   "metadata": {},
   "source": [
    "#### 4. Draw a line\n",
    "cv.line(mat, (x,y), size, color, thickness)"
   ]
  },
  {
   "cell_type": "code",
   "execution_count": null,
   "metadata": {},
   "outputs": [],
   "source": [
    "# thickness is how wide the line is\n",
    "cv.line(mat, (100,250), (300,400), (255,255,255), thickness=3)\n",
    "plt.title('Line')\n",
    "plt.imshow(mat)"
   ]
  },
  {
   "attachments": {},
   "cell_type": "markdown",
   "metadata": {},
   "source": [
    "#### 5. Write \n",
    "cv.putText(mat, text, (0,225), font, size, color, thickness)\n"
   ]
  },
  {
   "cell_type": "code",
   "execution_count": null,
   "metadata": {},
   "outputs": [],
   "source": [
    "cv.putText(mat, 'Hello, my name is Jason!!!', (0,225), cv.FONT_HERSHEY_TRIPLEX, 1.0, (128,128,128), 2)\n",
    "plt.title('Text')\n",
    "plt.imshow(mat)"
   ]
  }
 ],
 "metadata": {
  "kernelspec": {
   "display_name": "venv",
   "language": "python",
   "name": "python3"
  },
  "language_info": {
   "codemirror_mode": {
    "name": "ipython",
    "version": 3
   },
   "file_extension": ".py",
   "mimetype": "text/x-python",
   "name": "python",
   "nbconvert_exporter": "python",
   "pygments_lexer": "ipython3",
   "version": "3.8.2"
  },
  "orig_nbformat": 4,
  "vscode": {
   "interpreter": {
    "hash": "259483f6edcb8f5cbeca8d81ac0d9b1932c622767e7fe5c7347919ffe180a4f8"
   }
  }
 },
 "nbformat": 4,
 "nbformat_minor": 2
}
