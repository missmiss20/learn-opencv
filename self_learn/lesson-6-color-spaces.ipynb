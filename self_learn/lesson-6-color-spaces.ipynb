{
 "cells": [
  {
   "cell_type": "code",
   "execution_count": null,
   "metadata": {},
   "outputs": [],
   "source": [
    "import cv2 as cv\n",
    "import matplotlib.pyplot as plt\n",
    "import numpy as np"
   ]
  },
  {
   "attachments": {},
   "cell_type": "markdown",
   "metadata": {},
   "source": [
    "# Lesson 6: Color Spaces\n",
    "<ol>\n",
    "\n",
    "<li>The color space is a space of colors, a system of representing an array of pixel colors.</li>\n",
    "<li>OpenCV uses BGR while Matplotlib uses RGB</li>\n",
    "<li>\"RGB\" is a kind of color space, \"grayscale\" is a color space. Other color spaces: HSV, LAB, etc</li>\n",
    "<li>The function cv.cvtColor(img, cv.COLOR_BGR2GRAY) is used to change color spaces.\n",
    "BGR2GRAY, 2 means \"to\"</li>\n",
    "\n",
    "</ol>"
   ]
  },
  {
   "cell_type": "code",
   "execution_count": null,
   "metadata": {},
   "outputs": [],
   "source": [
    "# on default, the image is BGR format\n",
    "img = cv.imread('../Resources/Photos/park.jpg')\n",
    "# matplotlib open opens RGB format, so we need to change color space to show correct image color\n",
    "img = cv.cvtColor(img, cv.COLOR_BGR2RGB)\n",
    "plt.axis('off')\n",
    "plt.imshow(img)"
   ]
  },
  {
   "attachments": {},
   "cell_type": "markdown",
   "metadata": {},
   "source": [
    "### BGR to Grayscale"
   ]
  },
  {
   "cell_type": "code",
   "execution_count": null,
   "metadata": {},
   "outputs": [],
   "source": [
    "gray = cv.cvtColor(img, cv.COLOR_RGB2GRAY)\n",
    "gray = cv.cvtColor(gray, cv.COLOR_GRAY2RGB)\n",
    "plt.title('Gray')\n",
    "plt.axis('off')\n",
    "plt.imshow(gray)"
   ]
  },
  {
   "attachments": {},
   "cell_type": "markdown",
   "metadata": {},
   "source": [
    "### BGR to HSV"
   ]
  },
  {
   "cell_type": "code",
   "execution_count": null,
   "metadata": {},
   "outputs": [],
   "source": [
    "hsv = cv.cvtColor(img, cv.COLOR_RGB2HSV)\n",
    "plt.title('HSV')\n",
    "plt.axis('off')\n",
    "plt.imshow(hsv)"
   ]
  },
  {
   "attachments": {},
   "cell_type": "markdown",
   "metadata": {},
   "source": [
    "#### BGR to LAB"
   ]
  },
  {
   "cell_type": "code",
   "execution_count": null,
   "metadata": {},
   "outputs": [],
   "source": [
    "lab = cv.cvtColor(img, cv.COLOR_RGB2LAB)\n",
    "plt.title('LAB')\n",
    "plt.axis('off')\n",
    "plt.imshow(lab)"
   ]
  },
  {
   "cell_type": "markdown",
   "metadata": {},
   "source": []
  },
  {
   "cell_type": "code",
   "execution_count": null,
   "metadata": {},
   "outputs": [],
   "source": []
  }
 ],
 "metadata": {
  "kernelspec": {
   "display_name": "venv",
   "language": "python",
   "name": "python3"
  },
  "language_info": {
   "codemirror_mode": {
    "name": "ipython",
    "version": 3
   },
   "file_extension": ".py",
   "mimetype": "text/x-python",
   "name": "python",
   "nbconvert_exporter": "python",
   "pygments_lexer": "ipython3",
   "version": "3.8.2"
  },
  "orig_nbformat": 4,
  "vscode": {
   "interpreter": {
    "hash": "259483f6edcb8f5cbeca8d81ac0d9b1932c622767e7fe5c7347919ffe180a4f8"
   }
  }
 },
 "nbformat": 4,
 "nbformat_minor": 2
}
