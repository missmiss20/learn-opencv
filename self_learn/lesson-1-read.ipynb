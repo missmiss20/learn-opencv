{
 "cells": [
  {
   "attachments": {},
   "cell_type": "markdown",
   "metadata": {},
   "source": [
    "# Lesson 1: Read files from PC"
   ]
  },
  {
   "cell_type": "code",
   "execution_count": 1,
   "metadata": {},
   "outputs": [],
   "source": [
    "#pylint:disable=no-member\n",
    "import cv2 as cv"
   ]
  },
  {
   "attachments": {},
   "cell_type": "markdown",
   "metadata": {},
   "source": [
    "## Read and show image"
   ]
  },
  {
   "cell_type": "code",
   "execution_count": 2,
   "metadata": {},
   "outputs": [],
   "source": [
    "img = cv.imread('../Resources/Photos/cats.jpg')\n",
    "# name of screen is \"Cats\", content is img\n",
    "cv.imshow('Cats', img)\n",
    "cv.waitKey(0)\n",
    "cv.destroyAllWindows()"
   ]
  },
  {
   "attachments": {},
   "cell_type": "markdown",
   "metadata": {},
   "source": [
    "## Read and show video"
   ]
  },
  {
   "cell_type": "code",
   "execution_count": 3,
   "metadata": {},
   "outputs": [],
   "source": [
    "# Reading Videos\n",
    "capture = cv.VideoCapture('../Resources/Videos/dog.mp4')\n",
    "\n",
    "while True:\n",
    "    isTrue, frame = capture.read()\n",
    "    \n",
    "    # if cv.waitKey(20) & 0xFF==ord('d'):\n",
    "    # This is the preferred way - if `isTrue` is false (the frame could \n",
    "    # not be read, or we're at the end of the video), we immediately\n",
    "    # break from the loop. \n",
    "    if isTrue:    \n",
    "        cv.imshow('dog video', frame)\n",
    "        if cv.waitKey(20) & 0xFF==ord('d'):\n",
    "            break            \n",
    "    else:\n",
    "        break\n",
    "\n",
    "capture.release()\n",
    "cv.destroyAllWindows()"
   ]
  }
 ],
 "metadata": {
  "kernelspec": {
   "display_name": "Python 3.8.2 ('venv': venv)",
   "language": "python",
   "name": "python3"
  },
  "language_info": {
   "codemirror_mode": {
    "name": "ipython",
    "version": 3
   },
   "file_extension": ".py",
   "mimetype": "text/x-python",
   "name": "python",
   "nbconvert_exporter": "python",
   "pygments_lexer": "ipython3",
   "version": "3.8.2 (default, Jun  8 2021, 11:59:35) \n[Clang 12.0.5 (clang-1205.0.22.11)]"
  },
  "orig_nbformat": 4,
  "vscode": {
   "interpreter": {
    "hash": "259483f6edcb8f5cbeca8d81ac0d9b1932c622767e7fe5c7347919ffe180a4f8"
   }
  }
 },
 "nbformat": 4,
 "nbformat_minor": 2
}
